{
 "cells": [
  {
   "cell_type": "code",
   "execution_count": 6,
   "id": "84f638f8-6ebb-4311-bc0a-6fba67de483b",
   "metadata": {},
   "outputs": [
    {
     "name": "stdout",
     "output_type": "stream",
     "text": [
      "!dlroW ,olleH\n"
     ]
    }
   ],
   "source": [
    "#  question 1\n",
    "def reverse_string(s):\n",
    "    return s[::-1]\n",
    "    input_string = \"Hello, World!\"\n",
    "reversed_string = reverse_string(input_string)\n",
    "print(reversed_string)"
   ]
  },
  {
   "cell_type": "code",
   "execution_count": 8,
   "id": "2a11578b-791e-41f9-ab78-37fb86dcb809",
   "metadata": {},
   "outputs": [
    {
     "name": "stdout",
     "output_type": "stream",
     "text": [
      "Number of vowels: 3\n"
     ]
    }
   ],
   "source": [
    "# question 2\n",
    "def count_vowels(s):\n",
    "    vowels = \"aeiouAEIOU\"  \n",
    "    count = 0\n",
    "    \n",
    "    for char in s:\n",
    "        if char in vowels:\n",
    "            count += 1\n",
    "    \n",
    "    return count\n",
    "\n",
    "\n",
    "input_string = \"Hello, World!\"\n",
    "vowel_count = count_vowels(input_string)\n",
    "print(f\"Number of vowels: {vowel_count}\")\n"
   ]
  },
  {
   "cell_type": "code",
   "execution_count": 10,
   "id": "9cbd08dd-ad83-406c-86a1-1d517270526e",
   "metadata": {},
   "outputs": [
    {
     "name": "stdout",
     "output_type": "stream",
     "text": [
      "The string is a palindrome.\n"
     ]
    }
   ],
   "source": [
    "#  question 3\n",
    "def is_palindrome(s):\n",
    "    \n",
    "    s = s.replace(\" \", \"\").lower()\n",
    "    \n",
    "   \n",
    "    return s == s[::-1]\n",
    "\n",
    "\n",
    "input_string = \"A man a plan a canal Panama\"\n",
    "if is_palindrome(input_string):\n",
    "    print(\"The string is a palindrome.\")\n",
    "else:\n",
    "    print(\"The string is not a palindrome.\")\n"
   ]
  },
  {
   "cell_type": "code",
   "execution_count": 12,
   "id": "2080a361-94f8-4dbe-b8ec-7ea34a10ca76",
   "metadata": {},
   "outputs": [
    {
     "name": "stdout",
     "output_type": "stream",
     "text": [
      "The strings are anagrams.\n"
     ]
    }
   ],
   "source": [
    "#  question 4\n",
    "def are_anagrams(str1, str2):\n",
    "    \n",
    "    str1 = str1.replace(\" \", \"\").lower()\n",
    "    str2 = str2.replace(\" \", \"\").lower()\n",
    "    \n",
    "    \n",
    "    return sorted(str1) == sorted(str2)\n",
    "\n",
    "\n",
    "string1 = \"Listen\"\n",
    "string2 = \"Silent\"\n",
    "if are_anagrams(string1, string2):\n",
    "    print(\"The strings are anagrams.\")\n",
    "else:\n",
    "    print(\"The strings are not anagrams.\")\n"
   ]
  },
  {
   "cell_type": "code",
   "execution_count": 14,
   "id": "01b6879a-3cce-47ea-8af6-32438fa76198",
   "metadata": {},
   "outputs": [
    {
     "name": "stdout",
     "output_type": "stream",
     "text": [
      "Occurrences of 'test' found at indices: [10, 28]\n"
     ]
    }
   ],
   "source": [
    "# question 5\n",
    "def find_substring_occurrences(main_string, substring):\n",
    "    \n",
    "    occurrences = []\n",
    "    start = 0\n",
    "    \n",
    "    \n",
    "    while start < len(main_string):\n",
    "        start = main_string.find(substring, start)\n",
    "        \n",
    "        \n",
    "        if start == -1:\n",
    "            break\n",
    "        occurrences.append(start)\n",
    "        start += 1  \n",
    "    \n",
    "    return occurrences\n",
    "\n",
    "\n",
    "main_string = \"This is a test string. This test is fun.\"\n",
    "substring = \"test\"\n",
    "occurrences = find_substring_occurrences(main_string, substring)\n",
    "\n",
    "print(f\"Occurrences of '{substring}' found at indices: {occurrences}\")\n"
   ]
  },
  {
   "cell_type": "code",
   "execution_count": 16,
   "id": "b136fa42-08f0-4a95-9927-dfffceccce79",
   "metadata": {},
   "outputs": [
    {
     "name": "stdout",
     "output_type": "stream",
     "text": [
      "Compressed string: a3b3c3a3\n"
     ]
    }
   ],
   "source": [
    "# question 6\n",
    "def compress_string(s):\n",
    "    compressed = []\n",
    "    count = 1\n",
    "    \n",
    "    \n",
    "    for i in range(1, len(s)):\n",
    "        if s[i] == s[i - 1]:\n",
    "            count += 1\n",
    "        else:\n",
    "            compressed.append(s[i - 1] + str(count))  \n",
    "            count = 1 \n",
    "    \n",
    "   \n",
    "    compressed.append(s[-1] + str(count))\n",
    "    \n",
    "   \n",
    "    compressed_string = ''.join(compressed)\n",
    "    \n",
    "    \n",
    "    return compressed_string if len(compressed_string) < len(s) else s\n",
    "\n",
    "\n",
    "input_string = \"aaabbbcccaaa\"\n",
    "compressed_string = compress_string(input_string)\n",
    "print(f\"Compressed string: {compressed_string}\")\n"
   ]
  },
  {
   "cell_type": "code",
   "execution_count": 18,
   "id": "a150196d-ac15-4ea2-a487-5612472150f7",
   "metadata": {},
   "outputs": [
    {
     "name": "stdout",
     "output_type": "stream",
     "text": [
      "The string has all unique characters.\n"
     ]
    }
   ],
   "source": [
    "# question 7\n",
    "def has_unique_characters(s):\n",
    "    # Use a set to track characters we've seen\n",
    "    seen = set()\n",
    "    \n",
    "    for char in s:\n",
    "        if char in seen:\n",
    "            return False  # If the character is already in the set, return False\n",
    "        seen.add(char)  # Add the character to the set\n",
    "    \n",
    "    return True  # If no duplicates were found, return True\n",
    "\n",
    "# Example usage\n",
    "input_string = \"abcdef\"\n",
    "if has_unique_characters(input_string):\n",
    "    print(\"The string has all unique characters.\")\n",
    "else:\n",
    "    print(\"The string does not have all unique characters.\")\n"
   ]
  },
  {
   "cell_type": "code",
   "execution_count": 20,
   "id": "73b74233-d9de-4ecd-b954-8159fa94bc7c",
   "metadata": {},
   "outputs": [
    {
     "name": "stdout",
     "output_type": "stream",
     "text": [
      "Converted string: HELLO, WORLD!\n"
     ]
    }
   ],
   "source": [
    "# question 8\n",
    "def convert_case(s, to_upper=True):\n",
    "    if to_upper:\n",
    "        return s.upper()  # Convert to uppercase\n",
    "    else:\n",
    "        return s.lower()  # Convert to lowercase\n",
    "\n",
    "# Example usage\n",
    "input_string = \"Hello, World!\"\n",
    "to_upper = True  # Change to False for lowercase conversion\n",
    "\n",
    "converted_string = convert_case(input_string, to_upper)\n",
    "print(f\"Converted string: {converted_string}\")\n"
   ]
  },
  {
   "cell_type": "code",
   "execution_count": 22,
   "id": "d2b2f26a-12c6-4037-9fff-02fcadeb8f9f",
   "metadata": {},
   "outputs": [
    {
     "name": "stdout",
     "output_type": "stream",
     "text": [
      "Number of words: 6\n"
     ]
    }
   ],
   "source": [
    "# question 9\n",
    "def count_words(string):\n",
    "    # Split the string by spaces and filter out empty strings\n",
    "    words = string.split()\n",
    "    return len(words)\n",
    "\n",
    "# Example usage\n",
    "input_string = \"Hello, how are you doing today?\"\n",
    "word_count = count_words(input_string)\n",
    "print(\"Number of words:\", word_count)\n"
   ]
  },
  {
   "cell_type": "code",
   "execution_count": 30,
   "id": "37cb3d27-35aa-4131-ab06-1b9e3a795bc6",
   "metadata": {},
   "outputs": [
    {
     "name": "stdout",
     "output_type": "stream",
     "text": [
      "Concatenated String: World\n"
     ]
    }
   ],
   "source": [
    "# question 10\n",
    "def concatenate_strings(str1, str2):\n",
    "    return str1.join([str2])\n",
    "\n",
    "\n",
    "string1 = \"Hello\"\n",
    "string2 = \"World\"\n",
    "result = concatenate_strings(string1, string2)\n",
    "print(\"Concatenated String:\", result)\n"
   ]
  },
  {
   "cell_type": "code",
   "execution_count": 28,
   "id": "8886ca9e-9add-4749-90a8-828b9fc90b4f",
   "metadata": {},
   "outputs": [
    {
     "name": "stdout",
     "output_type": "stream",
     "text": [
      "List after removal: [1, 3, 4, 5]\n"
     ]
    }
   ],
   "source": [
    "# question 11\n",
    "def remove_occurrences(lst, element):\n",
    "    \n",
    "    return [item for item in lst if item != element]\n",
    "\n",
    "\n",
    "my_list = [1, 2, 3, 4, 2, 5, 2]\n",
    "element_to_remove = 2\n",
    "result = remove_occurrences(my_list, element_to_remove)\n",
    "print(\"List after removal:\", result)\n"
   ]
  },
  {
   "cell_type": "code",
   "execution_count": 32,
   "id": "567ac9bd-68ad-4279-b959-8e9bffe9c205",
   "metadata": {},
   "outputs": [
    {
     "name": "stdout",
     "output_type": "stream",
     "text": [
      "Second largest number: 20\n"
     ]
    }
   ],
   "source": [
    "# question 12\n",
    "def second_largest(lst):\n",
    "    # Remove duplicates by converting the list to a set\n",
    "    unique_lst = list(set(lst))\n",
    "    \n",
    "    # If there are fewer than 2 unique numbers, return None\n",
    "    if len(unique_lst) < 2:\n",
    "        return None\n",
    "    \n",
    "    # Sort the list in descending order and return the second element\n",
    "    unique_lst.sort(reverse=True)\n",
    "    return unique_lst[1]\n",
    "\n",
    "# Example usage\n",
    "my_list = [10, 20, 4, 45, 20, 10]\n",
    "result = second_largest(my_list)\n",
    "print(\"Second largest number:\", result)\n"
   ]
  },
  {
   "cell_type": "code",
   "execution_count": 34,
   "id": "b9f7d2a6-7cd3-4c9c-87c4-8663f39d8b0a",
   "metadata": {},
   "outputs": [
    {
     "name": "stdout",
     "output_type": "stream",
     "text": [
      "Occurrences: {1: 1, 2: 2, 3: 3, 4: 1}\n"
     ]
    }
   ],
   "source": [
    "# question 13\n",
    "def count_occurrences(lst):\n",
    "    count_dict = {}\n",
    "    \n",
    "    # Iterate through the list and count each element\n",
    "    for item in lst:\n",
    "        if item in count_dict:\n",
    "            count_dict[item] += 1\n",
    "        else:\n",
    "            count_dict[item] = 1\n",
    "    \n",
    "    return count_dict\n",
    "\n",
    "# Example usage\n",
    "my_list = [1, 2, 2, 3, 3, 3, 4]\n",
    "result = count_occurrences(my_list)\n",
    "print(\"Occurrences:\", result)\n"
   ]
  },
  {
   "cell_type": "code",
   "execution_count": 36,
   "id": "2e83a3f3-0a70-4ecb-b1c5-df958a2f101f",
   "metadata": {},
   "outputs": [
    {
     "name": "stdout",
     "output_type": "stream",
     "text": [
      "Reversed list: [5, 4, 3, 2, 1]\n"
     ]
    }
   ],
   "source": [
    "# question 14\n",
    "def reverse_list_in_place(lst):\n",
    "    left = 0\n",
    "    right = len(lst) - 1\n",
    "    \n",
    "    while left < right:\n",
    "        # Swap the elements at left and right\n",
    "        lst[left], lst[right] = lst[right], lst[left]\n",
    "        \n",
    "        # Move the pointers towards the center\n",
    "        left += 1\n",
    "        right -= 1\n",
    "\n",
    "# Example usage\n",
    "my_list = [1, 2, 3, 4, 5]\n",
    "reverse_list_in_place(my_list)\n",
    "print(\"Reversed list:\", my_list)\n"
   ]
  },
  {
   "cell_type": "code",
   "execution_count": 38,
   "id": "8263203a-0fa6-4e28-a519-5332731b6bfa",
   "metadata": {},
   "outputs": [
    {
     "name": "stdout",
     "output_type": "stream",
     "text": [
      "List without duplicates: [1, 2, 3, 4, 5]\n"
     ]
    }
   ],
   "source": [
    "# question 15\n",
    "def remove_duplicates(lst):\n",
    "    seen = set()\n",
    "    result = []\n",
    "    \n",
    "    for item in lst:\n",
    "        if item not in seen:\n",
    "            result.append(item)\n",
    "            seen.add(item)\n",
    "    \n",
    "    return result\n",
    "\n",
    "# Example usage\n",
    "my_list = [1, 2, 2, 3, 4, 4, 5, 1]\n",
    "result = remove_duplicates(my_list)\n",
    "print(\"List without duplicates:\", result)\n"
   ]
  },
  {
   "cell_type": "code",
   "execution_count": 40,
   "id": "e7ddc2ce-0ab9-4643-b908-029c135905c9",
   "metadata": {},
   "outputs": [
    {
     "name": "stdout",
     "output_type": "stream",
     "text": [
      "The list is sorted in ascending order.\n",
      "The list is sorted in descending order.\n",
      "The list is not sorted.\n"
     ]
    }
   ],
   "source": [
    "# question 16\n",
    "def check_sorted(lst):\n",
    "    # Check if the list is sorted in ascending order\n",
    "    if lst == sorted(lst):\n",
    "        return \"The list is sorted in ascending order.\"\n",
    "    # Check if the list is sorted in descending order\n",
    "    elif lst == sorted(lst, reverse=True):\n",
    "        return \"The list is sorted in descending order.\"\n",
    "    else:\n",
    "        return \"The list is not sorted.\"\n",
    "\n",
    "# Example usage\n",
    "my_list = [1, 2, 3, 4, 5]\n",
    "result = check_sorted(my_list)\n",
    "print(result)\n",
    "\n",
    "my_list2 = [5, 4, 3, 2, 1]\n",
    "result2 = check_sorted(my_list2)\n",
    "print(result2)\n",
    "\n",
    "my_list3 = [1, 3, 2, 5, 4]\n",
    "result3 = check_sorted(my_list3)\n",
    "print(result3)\n"
   ]
  },
  {
   "cell_type": "code",
   "execution_count": 42,
   "id": "d8bbf726-0689-4f21-aeeb-fd40c7e3449f",
   "metadata": {},
   "outputs": [
    {
     "name": "stdout",
     "output_type": "stream",
     "text": [
      "Merged sorted list: [1, 2, 3, 4, 5, 6, 7, 8]\n"
     ]
    }
   ],
   "source": [
    "# question 17\n",
    "def merge_sorted_lists(list1, list2):\n",
    "    merged_list = []\n",
    "    i, j = 0, 0\n",
    "    \n",
    "    # Traverse both lists and add the smaller element to the merged list\n",
    "    while i < len(list1) and j < len(list2):\n",
    "        if list1[i] < list2[j]:\n",
    "            merged_list.append(list1[i])\n",
    "            i += 1\n",
    "        else:\n",
    "            merged_list.append(list2[j])\n",
    "            j += 1\n",
    "    \n",
    "    # If there are remaining elements in list1, add them to the merged list\n",
    "    while i < len(list1):\n",
    "        merged_list.append(list1[i])\n",
    "        i += 1\n",
    "    \n",
    "    # If there are remaining elements in list2, add them to the merged list\n",
    "    while j < len(list2):\n",
    "        merged_list.append(list2[j])\n",
    "        j += 1\n",
    "    \n",
    "    return merged_list\n",
    "\n",
    "# Example usage\n",
    "list1 = [1, 3, 5, 7]\n",
    "list2 = [2, 4, 6, 8]\n",
    "result = merge_sorted_lists(list1, list2)\n",
    "print(\"Merged sorted list:\", result)\n"
   ]
  },
  {
   "cell_type": "code",
   "execution_count": 44,
   "id": "aa43130e-0625-409d-b409-fbcb44d11037",
   "metadata": {},
   "outputs": [
    {
     "name": "stdout",
     "output_type": "stream",
     "text": [
      "Intersection: [3, 4, 5]\n"
     ]
    }
   ],
   "source": [
    "# question 18\n",
    "def intersection_of_lists(list1, list2):\n",
    "    # Convert both lists to sets and find the intersection\n",
    "    return list(set(list1) & set(list2))\n",
    "\n",
    "# Example usage\n",
    "list1 = [1, 2, 3, 4, 5]\n",
    "list2 = [3, 4, 5, 6, 7]\n",
    "result = intersection_of_lists(list1, list2)\n",
    "print(\"Intersection:\", result)\n"
   ]
  },
  {
   "cell_type": "code",
   "execution_count": 46,
   "id": "b30912ff-8e08-4919-b81f-83f05c2cb456",
   "metadata": {},
   "outputs": [
    {
     "name": "stdout",
     "output_type": "stream",
     "text": [
      "Union of the lists: [1, 2, 3, 4, 5, 6, 7, 8]\n"
     ]
    }
   ],
   "source": [
    "# question 19\n",
    "def union_of_lists(list1, list2):\n",
    "    # Convert both lists to sets and take the union\n",
    "    return list(set(list1) | set(list2))\n",
    "\n",
    "# Example usage\n",
    "list1 = [1, 2, 3, 4, 5]\n",
    "list2 = [4, 5, 6, 7, 8]\n",
    "result = union_of_lists(list1, list2)\n",
    "print(\"Union of the lists:\", result)\n"
   ]
  },
  {
   "cell_type": "code",
   "execution_count": 48,
   "id": "0389cf27-f7ad-4611-819b-7affcf428fd2",
   "metadata": {},
   "outputs": [
    {
     "name": "stdout",
     "output_type": "stream",
     "text": [
      "Shuffled list: [5, 3, 2, 1, 4]\n"
     ]
    }
   ],
   "source": [
    "# question 20\n",
    "import random\n",
    "\n",
    "def shuffle_list(lst):\n",
    "    # Iterate through the list in reverse order\n",
    "    for i in range(len(lst) - 1, 0, -1):\n",
    "        # Generate a random index from 0 to i\n",
    "        j = random.randint(0, i)\n",
    "        \n",
    "        # Swap elements at indices i and j\n",
    "        lst[i], lst[j] = lst[j], lst[i]\n",
    "    \n",
    "    return lst\n",
    "\n",
    "# Example usage\n",
    "my_list = [1, 2, 3, 4, 5]\n",
    "shuffled_list = shuffle_list(my_list)\n",
    "print(\"Shuffled list:\", shuffled_list)\n"
   ]
  },
  {
   "cell_type": "code",
   "execution_count": 50,
   "id": "d3ae5ae9-ed9c-478e-b077-76e52d844483",
   "metadata": {},
   "outputs": [
    {
     "name": "stdout",
     "output_type": "stream",
     "text": [
      "Common elements: (3, 4, 5)\n"
     ]
    }
   ],
   "source": [
    "# question 21\n",
    "def common_elements(tuple1, tuple2):\n",
    "    # Find the intersection of the two tuples by converting them to sets\n",
    "    common = set(tuple1) & set(tuple2)\n",
    "    \n",
    "    # Convert the set back to a tuple and return\n",
    "    return tuple(common)\n",
    "\n",
    "# Example usage\n",
    "tuple1 = (1, 2, 3, 4, 5)\n",
    "tuple2 = (3, 4, 5, 6, 7)\n",
    "result = common_elements(tuple1, tuple2)\n",
    "print(\"Common elements:\", result)\n"
   ]
  },
  {
   "cell_type": "code",
   "execution_count": 52,
   "id": "6832e405-bec3-467a-a49b-94f3241cc7f6",
   "metadata": {},
   "outputs": [
    {
     "name": "stdin",
     "output_type": "stream",
     "text": [
      "Enter the first set of integers (comma separated):  1,2,3,4,5\n",
      "Enter the second set of integers (comma separated):  4,5,6,7\n"
     ]
    },
    {
     "name": "stdout",
     "output_type": "stream",
     "text": [
      "The intersection of the two sets is: {4, 5}\n"
     ]
    }
   ],
   "source": [
    "#question 22\n",
    "def get_set_from_input(prompt):\n",
    "    # Prompt the user for input, split by commas, and convert to integers\n",
    "    user_input = input(prompt)\n",
    "    return set(map(int, user_input.split(',')))\n",
    "\n",
    "def intersection_of_sets(set1, set2):\n",
    "    # Find and return the intersection of the two sets\n",
    "    return set1 & set2\n",
    "\n",
    "# Get the sets from the user\n",
    "set1 = get_set_from_input(\"Enter the first set of integers (comma separated): \")\n",
    "set2 = get_set_from_input(\"Enter the second set of integers (comma separated): \")\n",
    "\n",
    "# Get the intersection of the two sets\n",
    "result = intersection_of_sets(set1, set2)\n",
    "\n",
    "# Print the intersection\n",
    "print(\"The intersection of the two sets is:\", result)\n"
   ]
  },
  {
   "cell_type": "code",
   "execution_count": 54,
   "id": "74a48998-0b1a-4762-9227-f4c6bb45be91",
   "metadata": {},
   "outputs": [
    {
     "name": "stdout",
     "output_type": "stream",
     "text": [
      "Concatenated tuple: (1, 2, 3, 4, 5, 6)\n"
     ]
    }
   ],
   "source": [
    "#question 23\n",
    "def concatenate_tuples(tuple1, tuple2):\n",
    "    # Concatenate the two tuples\n",
    "    return tuple1 + tuple2\n",
    "\n",
    "# Example usage\n",
    "tuple1 = (1, 2, 3)\n",
    "tuple2 = (4, 5, 6)\n",
    "result = concatenate_tuples(tuple1, tuple2)\n",
    "print(\"Concatenated tuple:\", result)\n"
   ]
  },
  {
   "cell_type": "code",
   "execution_count": 56,
   "id": "6d2e2606-4acf-478e-9381-47f2489deebf",
   "metadata": {},
   "outputs": [
    {
     "name": "stdin",
     "output_type": "stream",
     "text": [
      "Enter the first set of strings (comma separated):  apple,banana,orange,grape\n",
      "Enter the second set of strings (comma separated):  banana,grape\n"
     ]
    },
    {
     "name": "stdout",
     "output_type": "stream",
     "text": [
      "The elements present in the first set but not in the second set are: {'apple', 'orange'}\n"
     ]
    }
   ],
   "source": [
    "#question 24\n",
    "def get_set_from_input(prompt):\n",
    "    # Prompt the user for input, split by commas, and convert to a set of strings\n",
    "    user_input = input(prompt)\n",
    "    return set(user_input.split(','))\n",
    "\n",
    "def difference_of_sets(set1, set2):\n",
    "    # Find the difference of set1 and set2 (elements in set1 but not in set2)\n",
    "    return set1 - set2\n",
    "\n",
    "# Get the sets from the user\n",
    "set1 = get_set_from_input(\"Enter the first set of strings (comma separated): \")\n",
    "set2 = get_set_from_input(\"Enter the second set of strings (comma separated): \")\n",
    "\n",
    "# Get the difference (elements in set1 but not in set2)\n",
    "result = difference_of_sets(set1, set2)\n",
    "\n",
    "# Print the result\n",
    "print(\"The elements present in the first set but not in the second set are:\", result)\n"
   ]
  },
  {
   "cell_type": "code",
   "execution_count": 58,
   "id": "21e6a2c9-4882-4595-b1ee-280b11297443",
   "metadata": {},
   "outputs": [
    {
     "name": "stdin",
     "output_type": "stream",
     "text": [
      "Enter the start index:  1\n",
      "Enter the end index:  4\n"
     ]
    },
    {
     "name": "stdout",
     "output_type": "stream",
     "text": [
      "New tuple: (20, 30, 40)\n"
     ]
    }
   ],
   "source": [
    "# question 25\n",
    "def slice_tuple(tpl, start, end):\n",
    "    # Return a new tuple with elements from start index to end index (exclusive)\n",
    "    return tpl[start:end]\n",
    "\n",
    "# Example usage\n",
    "tuple_input = (10, 20, 30, 40, 50, 60)\n",
    "start_index = int(input(\"Enter the start index: \"))\n",
    "end_index = int(input(\"Enter the end index: \"))\n",
    "\n",
    "result = slice_tuple(tuple_input, start_index, end_index)\n",
    "print(\"New tuple:\", result)\n"
   ]
  },
  {
   "cell_type": "code",
   "execution_count": 60,
   "id": "d709bc2f-c5b1-41dc-a9b5-639652499320",
   "metadata": {},
   "outputs": [
    {
     "name": "stdin",
     "output_type": "stream",
     "text": [
      "Enter the first set of characters:  a b c d\n",
      "Enter the second set of characters:  d e f\n"
     ]
    },
    {
     "name": "stdout",
     "output_type": "stream",
     "text": [
      "The union of the two sets is: {'d', 'b', 'e', 'f', 'a', 'c'}\n"
     ]
    }
   ],
   "source": [
    "# question 26\n",
    "def get_set_from_input(prompt):\n",
    "    # Prompt the user for input, remove spaces, and convert to a set of characters\n",
    "    user_input = input(prompt)\n",
    "    return set(user_input.replace(\" \", \"\"))\n",
    "\n",
    "def union_of_sets(set1, set2):\n",
    "    # Find and return the union of the two sets\n",
    "    return set1 | set2\n",
    "\n",
    "# Get the sets from the user\n",
    "set1 = get_set_from_input(\"Enter the first set of characters: \")\n",
    "set2 = get_set_from_input(\"Enter the second set of characters: \")\n",
    "\n",
    "# Get the union of the two sets\n",
    "result = union_of_sets(set1, set2)\n",
    "\n",
    "# Print the result\n",
    "print(\"The union of the two sets is:\", result)\n"
   ]
  },
  {
   "cell_type": "code",
   "execution_count": 62,
   "id": "30025a5e-6902-4a1b-9ea4-85c35cbad77e",
   "metadata": {},
   "outputs": [
    {
     "name": "stdin",
     "output_type": "stream",
     "text": [
      "Enter a tuple of integers (comma-separated):  10,20,30,5,15,25\n"
     ]
    },
    {
     "name": "stdout",
     "output_type": "stream",
     "text": [
      "The maximum value is: 30\n",
      "The minimum value is: 5\n"
     ]
    }
   ],
   "source": [
    "# question 27\n",
    "def find_max_min(tpl):\n",
    "    # Find the maximum and minimum values using tuple unpacking\n",
    "    max_val, min_val = max(tpl), min(tpl)\n",
    "    return max_val, min_val\n",
    "\n",
    "# Example usage\n",
    "tuple_input = tuple(map(int, input(\"Enter a tuple of integers (comma-separated): \").split(',')))\n",
    "\n",
    "max_value, min_value = find_max_min(tuple_input)\n",
    "\n",
    "print(f\"The maximum value is: {max_value}\")\n",
    "print(f\"The minimum value is: {min_value}\")\n"
   ]
  },
  {
   "cell_type": "code",
   "execution_count": 64,
   "id": "8bbe35e4-e388-4c0a-a94b-73109bb3221e",
   "metadata": {},
   "outputs": [
    {
     "name": "stdout",
     "output_type": "stream",
     "text": [
      "Union of the two sets: {1, 2, 3, 4, 5, 6, 7, 8}\n",
      "Intersection of the two sets: {4, 5}\n",
      "Difference of the two sets (set1 - set2): {1, 2, 3}\n"
     ]
    }
   ],
   "source": [
    "# question 28\n",
    "def set_operations(set1, set2):\n",
    "    # Calculate union, intersection, and difference\n",
    "    union = set1 | set2\n",
    "    intersection = set1 & set2\n",
    "    difference = set1 - set2\n",
    "    \n",
    "    # Print the results\n",
    "    print(\"Union of the two sets:\", union)\n",
    "    print(\"Intersection of the two sets:\", intersection)\n",
    "    print(\"Difference of the two sets (set1 - set2):\", difference)\n",
    "\n",
    "# Example usage\n",
    "set1 = {1, 2, 3, 4, 5}\n",
    "set2 = {4, 5, 6, 7, 8}\n",
    "\n",
    "set_operations(set1, set2)\n"
   ]
  },
  {
   "cell_type": "code",
   "execution_count": 66,
   "id": "eadb8a84-f57e-405f-8aca-25fa058ad6ab",
   "metadata": {},
   "outputs": [
    {
     "name": "stdin",
     "output_type": "stream",
     "text": [
      "Enter a tuple of integers (comma-separated):  1,2,3,4,5,3,3\n",
      "Enter the element to count:  3\n"
     ]
    },
    {
     "name": "stdout",
     "output_type": "stream",
     "text": [
      "The element 3 appears 3 times in the tuple.\n"
     ]
    }
   ],
   "source": [
    "# question 29\n",
    "def count_occurrences(tpl, element):\n",
    "    # Return the count of occurrences of the element in the tuple\n",
    "    return tpl.count(element)\n",
    "\n",
    "# Example usage\n",
    "tuple_input = tuple(map(int, input(\"Enter a tuple of integers (comma-separated): \").split(',')))\n",
    "element_input = int(input(\"Enter the element to count: \"))\n",
    "\n",
    "occurrences = count_occurrences(tuple_input, element_input)\n",
    "\n",
    "print(f\"The element {element_input} appears {occurrences} times in the tuple.\")\n"
   ]
  },
  {
   "cell_type": "code",
   "execution_count": 68,
   "id": "83351483-83c3-48b8-a0e2-4cbdb9108d5c",
   "metadata": {},
   "outputs": [
    {
     "name": "stdin",
     "output_type": "stream",
     "text": [
      "Enter the first set of strings (comma separated):  apple,banana,orange,grape\n",
      "Enter the second set of strings (comma separated):  banana,grape,kiwi,pear\n"
     ]
    },
    {
     "name": "stdout",
     "output_type": "stream",
     "text": [
      "The symmetric difference of the two sets is: {'kiwi', 'pear', 'orange', 'apple'}\n"
     ]
    }
   ],
   "source": [
    "# question 30\n",
    "def get_set_from_input(prompt):\n",
    "    # Prompt the user for input, split by commas, and convert to a set of strings\n",
    "    user_input = input(prompt)\n",
    "    return set(user_input.split(','))\n",
    "\n",
    "def symmetric_difference_of_sets(set1, set2):\n",
    "    # Find and return the symmetric difference of the two sets\n",
    "    return set1 ^ set2\n",
    "\n",
    "# Get the sets from the user\n",
    "set1 = get_set_from_input(\"Enter the first set of strings (comma separated): \")\n",
    "set2 = get_set_from_input(\"Enter the second set of strings (comma separated): \")\n",
    "\n",
    "# Get the symmetric difference of the two sets\n",
    "result = symmetric_difference_of_sets(set1, set2)\n",
    "\n",
    "# Print the result\n",
    "print(\"The symmetric difference of the two sets is:\", result)\n"
   ]
  },
  {
   "cell_type": "code",
   "execution_count": 70,
   "id": "987294db-0ce3-4f16-af47-4a38dcd2fca2",
   "metadata": {},
   "outputs": [
    {
     "name": "stdin",
     "output_type": "stream",
     "text": [
      "Enter a list of words separated by spaces:  apple banana apple orange banana apple\n"
     ]
    },
    {
     "name": "stdout",
     "output_type": "stream",
     "text": [
      "Word frequencies: {'apple': 3, 'banana': 2, 'orange': 1}\n"
     ]
    }
   ],
   "source": [
    "# question 31\n",
    "def word_frequencies(word_list):\n",
    "    # Create a dictionary to store the word frequencies\n",
    "    frequency_dict = {}\n",
    "    \n",
    "    # Iterate over the words in the list\n",
    "    for word in word_list:\n",
    "        if word in frequency_dict:\n",
    "            frequency_dict[word] += 1  # Increment the frequency\n",
    "        else:\n",
    "            frequency_dict[word] = 1  # Add the word to the dictionary with a frequency of 1\n",
    "    \n",
    "    return frequency_dict\n",
    "\n",
    "# Example usage\n",
    "words_input = input(\"Enter a list of words separated by spaces: \").split()\n",
    "result = word_frequencies(words_input)\n",
    "\n",
    "print(\"Word frequencies:\", result)\n"
   ]
  },
  {
   "cell_type": "code",
   "execution_count": 82,
   "id": "9ecc0c7d-ffa7-47df-8d37-7fdbfebaa1b6",
   "metadata": {},
   "outputs": [
    {
     "name": "stdin",
     "output_type": "stream",
     "text": [
      "Enter the first dictionary (e.g., {'a': 1, 'b': 2}):  {'a': 1, 'b': 2}\n",
      "Enter the second dictionary (e.g., {'b': 3, 'c': 4}):  {'b': 3, 'c': 4}\n"
     ]
    },
    {
     "name": "stdout",
     "output_type": "stream",
     "text": [
      "Merged dictionary: {'a': 1, 'b': 3, 'c': 4}\n"
     ]
    }
   ],
   "source": [
    "# question 32\n",
    "def merge_dicts(dict1, dict2):\n",
    "    # Merge dict1 and dict2, with dict2 overwriting values from dict1 for common keys\n",
    "    merged_dict = dict1.copy()  # Make a copy of dict1 to avoid modifying the original\n",
    "    merged_dict.update(dict2)   # Update the copy with the values from dict2\n",
    "    return merged_dict\n",
    "\n",
    "# Example usage\n",
    "dict1_input = input(\"Enter the first dictionary (e.g., {'a': 1, 'b': 2}): \")\n",
    "dict2_input = input(\"Enter the second dictionary (e.g., {'b': 3, 'c': 4}): \")\n",
    "\n",
    "# Convert the input string to dictionaries\n",
    "dict1 = eval(dict1_input)\n",
    "dict2 = eval(dict2_input)\n",
    "\n",
    "# Merge the dictionaries\n",
    "merged_result = merge_dicts(dict1, dict2)\n",
    "\n",
    "print(\"Merged dictionary:\", merged_result)\n"
   ]
  },
  {
   "cell_type": "code",
   "execution_count": 74,
   "id": "632589fc-f373-4e35-a8ac-8ebfc0c20e5c",
   "metadata": {},
   "outputs": [
    {
     "name": "stdin",
     "output_type": "stream",
     "text": [
      "Enter a list of keys (comma-separated):  a,b,c\n"
     ]
    },
    {
     "name": "stdout",
     "output_type": "stream",
     "text": [
      "The value for the keys is: 10\n"
     ]
    }
   ],
   "source": [
    "# question 33\n",
    "def access_nested_dict(d, keys):\n",
    "    # Iterate over the list of keys and access the corresponding value\n",
    "    for key in keys:\n",
    "        # If the key does not exist in the current level of the dictionary, return None\n",
    "        if key not in d:\n",
    "            return None\n",
    "        d = d[key]  # Move to the next level of the dictionary\n",
    "    return d  # Return the final value\n",
    "\n",
    "# Example usage\n",
    "nested_dict = {\n",
    "    'a': {\n",
    "        'b': {\n",
    "            'c': 10\n",
    "        }\n",
    "    }\n",
    "}\n",
    "\n",
    "keys_input = input(\"Enter a list of keys (comma-separated): \").split(',')\n",
    "keys = [key.strip() for key in keys_input]\n",
    "\n",
    "# Access the value in the nested dictionary\n",
    "result = access_nested_dict(nested_dict, keys)\n",
    "\n",
    "if result is not None:\n",
    "    print(\"The value for the keys is:\", result)\n",
    "else:\n",
    "    print(\"One or more keys do not exist.\")\n"
   ]
  },
  {
   "cell_type": "code",
   "execution_count": 80,
   "id": "5c77ce3f-484d-4c0f-afb4-4521a09ac390",
   "metadata": {},
   "outputs": [
    {
     "name": "stdin",
     "output_type": "stream",
     "text": [
      "Enter a dictionary (e.g., {'a': 3, 'b': 1, 'c': 2}):   {'a': 3, 'b': 1, 'c': 2}\n",
      "Do you want to sort in ascending or descending order? (a/d):  a\n"
     ]
    },
    {
     "name": "stdout",
     "output_type": "stream",
     "text": [
      "Sorted dictionary: {'b': 1, 'c': 2, 'a': 3}\n"
     ]
    }
   ],
   "source": [
    "# question 34\n",
    "def sort_dict_by_value(d, reverse=False):\n",
    "    # Sort the dictionary by its values\n",
    "    return dict(sorted(d.items(), key=lambda item: item[1], reverse=reverse))\n",
    "\n",
    "# Example usage\n",
    "dict_input = input(\"Enter a dictionary (e.g., {'a': 3, 'b': 1, 'c': 2}): \")\n",
    "dict_input = eval(dict_input)  # Convert the input string into a dictionary\n",
    "\n",
    "# Ask the user for the sorting order\n",
    "order_input = input(\"Do you want to sort in ascending or descending order? (a/d): \").strip().lower()\n",
    "\n",
    "# Determine the reverse flag based on user input\n",
    "reverse_order = True if order_input == 'd' else False\n",
    "\n",
    "# Sort the dictionary\n",
    "sorted_dict = sort_dict_by_value(dict_input, reverse=reverse_order)\n",
    "\n",
    "print(\"Sorted dictionary:\", sorted_dict)\n"
   ]
  },
  {
   "cell_type": "code",
   "execution_count": 78,
   "id": "90ca1f80-b811-4ec5-b9d5-b2dd59c5dade",
   "metadata": {},
   "outputs": [
    {
     "name": "stdin",
     "output_type": "stream",
     "text": [
      "Enter a dictionary (e.g., {'a': 1, 'b': 2, 'c': 1}):  {'a': 1, 'b': 2, 'c': 1}\n"
     ]
    },
    {
     "name": "stdout",
     "output_type": "stream",
     "text": [
      "Inverted dictionary: {1: ['a', 'c'], 2: ['b']}\n"
     ]
    }
   ],
   "source": [
    "# question 35\n",
    "def invert_dict(d):\n",
    "    inverted_dict = {}\n",
    "    \n",
    "    for key, value in d.items():\n",
    "        if value not in inverted_dict:\n",
    "            inverted_dict[value] = [key]  # Initialize the list with the current key\n",
    "        else:\n",
    "            inverted_dict[value].append(key)  # Append the key to the list\n",
    "    \n",
    "    return inverted_dict\n",
    "\n",
    "# Example usage\n",
    "dict_input = input(\"Enter a dictionary (e.g., {'a': 1, 'b': 2, 'c': 1}): \")\n",
    "dict_input = eval(dict_input)  # Convert the input string into a dictionary\n",
    "\n",
    "# Invert the dictionary\n",
    "inverted_dict = invert_dict(dict_input)\n",
    "\n",
    "print(\"Inverted dictionary:\", inverted_dict)\n"
   ]
  },
  {
   "cell_type": "code",
   "execution_count": null,
   "id": "fbd3af21-3825-4311-8b49-129a0a476782",
   "metadata": {},
   "outputs": [],
   "source": []
  }
 ],
 "metadata": {
  "kernelspec": {
   "display_name": "Python [conda env:base] *",
   "language": "python",
   "name": "conda-base-py"
  },
  "language_info": {
   "codemirror_mode": {
    "name": "ipython",
    "version": 3
   },
   "file_extension": ".py",
   "mimetype": "text/x-python",
   "name": "python",
   "nbconvert_exporter": "python",
   "pygments_lexer": "ipython3",
   "version": "3.12.7"
  }
 },
 "nbformat": 4,
 "nbformat_minor": 5
}
